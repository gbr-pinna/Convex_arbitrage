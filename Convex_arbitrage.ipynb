{
 "cells": [
  {
   "cell_type": "markdown",
   "id": "9670f054",
   "metadata": {},
   "source": [
    "# Options and arbitrage"
   ]
  },
  {
   "cell_type": "markdown",
   "id": "d5c753b1",
   "metadata": {},
   "source": [
    "In this noteboook we explain what options are and we present a code to find wheter a form of arbitrage (known as convex arbitrage is possible)"
   ]
  },
  {
   "cell_type": "markdown",
   "id": "91354395",
   "metadata": {},
   "source": [
    "## Options"
   ]
  },
  {
   "cell_type": "markdown",
   "id": "ca142f12",
   "metadata": {},
   "source": [
    "An option is a financial contract (a type of derivative) that gives the buyer the right, but not the obligation, to buy (in the case of a call option) or sell (in the case of a put option) an underlying asset at a specified price (called the strike price) by or at the time of expiration.\n",
    "\n",
    "There are two main types of options:\n",
    "\n",
    "* European options: These can only be exercised at expiration.\n",
    "\n",
    "* American options: These can be exercised at any time on or before expiration."
   ]
  },
  {
   "cell_type": "markdown",
   "id": "677cabf3",
   "metadata": {},
   "source": [
    "### Profit"
   ]
  },
  {
   "cell_type": "markdown",
   "id": "e8c4d00b",
   "metadata": {},
   "source": [
    "The profit for a call (European) option depends on whether the strike price $K$ is less than the current price of the underlying asset $S_T$ at expiration.\n",
    "\n",
    "If we buy a call option, the profit is\n",
    "\n",
    "$$\n",
    "P_{call,buy} = (S_T-K)^{+}-V(K)\n",
    "$$\n",
    "\n",
    "where $V(K)$ is the price of the option at strike $K$ and $(x)^+ = \\max (x,0)$. \n",
    "This follows because at expiration either\n",
    "\n",
    "* $S_T-K>0$, in this case we excercise the right to buy the asset.\n",
    "\n",
    "* $S_T-K \\leq 0$, in this case we do not excercise the right to buy the asset.\n",
    "\n",
    "If we (short) sell a call option, the profit is\n",
    "\n",
    "$$\n",
    "P_{call,short} = -(S_T-K)^{+} + V(K)\n",
    "$$\n",
    "\n",
    "since, at expiration, we need to sell the asset to the buyer at the strike price $K$ if they decide to exercise the option.\n",
    "\n",
    "\n",
    "On the other hand, if we buy a put option the profit is\n",
    "\n",
    "$$\n",
    "P_{put,buy} = (K-S_T)^{+}-V(K)\n",
    "$$\n",
    "\n",
    "if we short a put option \n",
    "\n",
    "$$\n",
    "P_{put,short} = -(K-S_T)^{+}+V(K)\n",
    "$$\n"
   ]
  },
  {
   "cell_type": "markdown",
   "id": "d0e3ce72",
   "metadata": {},
   "source": [
    "## Convex Arbitrage"
   ]
  },
  {
   "cell_type": "markdown",
   "id": "59d20799",
   "metadata": {},
   "source": [
    "We now introduce the concept of convex arbitrage. \n",
    "\n",
    "We prove the following:\n",
    "\n",
    "* If arbitrage is not possible the function $V(K)$, that assign the price to an option given its strike price $K$, is convex\n",
    "\n",
    "Assume that $V(K)$ is not convex (i.e. striclty concave),\n",
    "\n",
    "$$\n",
    "V(\\lambda K_1 + (1-\\lambda)K_2) > \\lambda V(K_1) + (1-\\lambda)V(K_2)\n",
    "$$\n",
    "\n",
    "Assume that there exists three options with strikes $K_1$, $K_2$, and $K_3 = \\lambda K_1 + (1-\\lambda)K_2$, where $\\lambda \\in [0,1]$.\n",
    "\n",
    "We can then sell $1$ unit of the option at strikes $K_3$ and use the money to buy $\\lambda$ units of the option at stike $K_1$ and $1-\\lambda$ units of the option at stike $K_2$.\n",
    "\n",
    "If the options are call options, the profit is given by\n",
    "\n",
    "$$\n",
    "P_{call} = \\lambda(S_T-K_1)^{+} + (1-\\lambda)(S_T-K_2)^{+} - (S_T-\\lambda K_1 - (1-\\lambda)K_2)^{+} + \\Bigl[V(\\lambda K_1 + (1-\\lambda)K_2)-\\lambda V(K_1) - (1-\\lambda)V(K_2)\\Bigl]\n",
    "$$\n",
    "\n",
    "Notice that the function $(x)^{+}$ is convex; therefore, \n",
    "\n",
    "$$\n",
    "(S-\\lambda K_1 - (1-\\lambda)K_2)^{+} \\leq \\lambda(S_T-K_1)^{+} + (1-\\lambda)(S_T-K_2)^{+}\n",
    "$$\n",
    "\n",
    "hence the sum of the first three terms in $P_{call}$ is a positive quantity, since $V(K)$ is strictly concave by assumption we conclude that\n",
    "\n",
    "$$\n",
    "P_{call}> 0\n",
    "$$\n",
    "\n",
    "Therefore, we conclude that if $V(K)$ (the option price as a function of strike) is not convex, there may be an opportunity for arbitrage — that is, a risk-free profit requiring no initial investment. This form of arbitrage is known as convex arbitrage.\n",
    "\n",
    "On the other hand, if the options are put options the profit is \n",
    "\n",
    "$$\n",
    "P_{put} = \\lambda(K_1-S_T)^{+} + (1-\\lambda)(K_2-S_T)^{+} - (\\lambda K_1 + (1-\\lambda)K_2-S_T)^{+} + \\Bigl[V(\\lambda K_1 + (1-\\lambda)K_2)-\\lambda V(K_1) - (1-\\lambda)V(K_2)\\Bigl]\n",
    "$$\n",
    "\n",
    "Since the function $(-x)^{+}$ is also convex, we conclude that\n",
    "\n",
    "$$\n",
    "P_{put}> 0\n",
    "$$"
   ]
  },
  {
   "cell_type": "markdown",
   "id": "8e04f44b",
   "metadata": {},
   "source": [
    "# Problem"
   ]
  },
  {
   "cell_type": "markdown",
   "id": "0c467a24",
   "metadata": {},
   "source": [
    "Consider the following problem present in Chapter 1 in the book \"150 Most Frequently Asked Questions on Quant Interviews\".\n",
    "\n",
    "Nine months call options with strikes 20 and 25 on a non-dividend—paying underlying asset with spot price $22 are trading for $5.50 and $1, respectively. Can you find an arbitrage? "
   ]
  },
  {
   "cell_type": "markdown",
   "id": "cd6d0a3c",
   "metadata": {},
   "source": [
    "Let $K_1 = 20$, $V(K_1) = 5.5$ and $K_2 = 25$, $V(K_1) = 1$ be the strike prices and the prices of the call options. Let $S = 22$ be the current price of the underlying asset.\n",
    "\n",
    "We need to find wheter it is possible to have convex arbitrage. However, it seems as if we are missing one option, since we would need three options to make use of convex arbitrage. However, we can treat the underlying asset itself as an option. In fact, we can view it as a call option with price $V(K_3) = 22$ and zero strike price $K_3=0$. Call the options $1$, $2$ and $3$.\n",
    "\n",
    "We now need to find wheter it is possible to have\n",
    "\n",
    "$$\n",
    "V(\\lambda K_i + (1-\\lambda)K_j) > \\lambda V(K_i) + (1-\\lambda)V(K_j)\n",
    "$$\n",
    "\n",
    "where $K_k = \\lambda K_i + (1-\\lambda)K_j$ and $(i,j,k)$ takes value in all possible permutations of $(1,2,3)$.\n",
    "\n",
    "The first things we need to check is wheter there exists $\\lambda(i,j,k) \\in [0,1]$ such that $K_k = \\lambda(i,j,k) K_i + (1-\\lambda)K_j$.\n",
    "\n",
    "I.e. solving for $\\lambda$ we get\n",
    "\n",
    "$$\n",
    "\\lambda(i,j,k) = \\frac{K_k-K_j}{K_i-K_j}\n",
    "$$\n",
    "\n",
    "we need to check if there are allowed values of $(i,j,k)$ such that $\\lambda(i,j,k) \\in [0,1]$. Notice that $\\lambda(i,j,k) = 1-\\lambda(j,i,k)$.\n",
    "\n",
    "In this case, we find that $\\lambda(2,3,1) = 4/5$ is a valid solution.\n",
    "\n",
    "If we then check for concavity we have\n",
    "\n",
    "$$\n",
    "V(K1) = 5.5 > \\frac{4}{5}V(K2) + \\frac{1}{5}V(K3) = 5.2\n",
    "$$\n",
    "\n",
    "Therefore, there is a convex arbitrage strategy consisting of selling $1$ unit of option $1$ and buying $4/5$ units of option $2$ and $1/5$ unit of option $3$"
   ]
  },
  {
   "cell_type": "markdown",
   "id": "a15f7078",
   "metadata": {},
   "source": [
    "# Code"
   ]
  },
  {
   "cell_type": "markdown",
   "id": "ec05af86",
   "metadata": {},
   "source": [
    "We now implement a simple code that, given a list of options, determines if an arbitrage strategy is possible. \n",
    "\n",
    "The code take takes as inputs:\n",
    "\n",
    "* A dictionary whose keys are the strikes $K_i$ and the values are the prices of the options $V(K_i)$\n",
    "\n",
    "and returns\n",
    "\n",
    "* A string desribing the strategy of the form \"Sell a unit of option with strike $K_k$ and buy $\\lambda$ unit of the option with strike $K_i$ and $(1-\\lambda)$ unit of the option with strike $K_j$\"\n",
    "\n",
    "We assume that there are no duplicated i.e. there can't be two options with the same strike but different price and viceversa."
   ]
  },
  {
   "cell_type": "code",
   "execution_count": 1,
   "id": "a9ac813f",
   "metadata": {},
   "outputs": [],
   "source": [
    "import itertools\n",
    "\n",
    "def convex_arbitrage(options_dictionary):\n",
    "\n",
    "    strategies = []\n",
    "    keys = list(options_dictionary.keys())\n",
    "\n",
    "    for K_i, K_j in itertools.combinations(keys, 2):\n",
    "        remaining_keys = set(keys) - {K_i, K_j}\n",
    "        for K_k in remaining_keys:\n",
    "\n",
    "            lambda_ijk= (K_k-K_j)/(K_i-K_j)\n",
    "\n",
    "            if 0<=lambda_ijk<=1:\n",
    "\n",
    "                if options_dictionary[K_k]> lambda_ijk*options_dictionary[K_i] + (1-lambda_ijk)*options_dictionary[K_j]:\n",
    "\n",
    "                    strategies.append(f\"Sell a unit of option with strike {K_k} and buy {lambda_ijk} unit of the option with strike {K_i} and {1-lambda_ijk} unit of the option with strike {K_j}\")\n",
    "\n",
    "    return strategies"
   ]
  },
  {
   "cell_type": "code",
   "execution_count": 2,
   "id": "ca58ee76",
   "metadata": {},
   "outputs": [
    {
     "data": {
      "text/plain": [
       "['Sell a unit of option with strike 20 and buy 0.8 unit of the option with strike 25 and 0.19999999999999996 unit of the option with strike 0']"
      ]
     },
     "execution_count": 2,
     "metadata": {},
     "output_type": "execute_result"
    }
   ],
   "source": [
    "# We test if the code returns the right strategy for the previous problem\n",
    "\n",
    "options_dictionary = {25:1, 20:5.5,0:22}\n",
    "\n",
    "convex_arbitrage(options_dictionary)"
   ]
  },
  {
   "cell_type": "markdown",
   "id": "93a4cb22",
   "metadata": {},
   "source": [
    "# Implementation"
   ]
  },
  {
   "cell_type": "markdown",
   "id": "ae61ac00",
   "metadata": {},
   "source": [
    "We can try to see if there is convex arbitrage on real options."
   ]
  },
  {
   "cell_type": "code",
   "execution_count": null,
   "id": "fe1a59b3",
   "metadata": {},
   "outputs": [],
   "source": [
    "from yahoo_fin import options\n",
    "\n",
    "# Get the options chain for AAPL (APPLE)\n",
    "option_chain = options.get_options_chain(\"AAPL\")\n",
    "\n",
    "# Get the call options\n",
    "calls = option_chain['calls']\n",
    "\n",
    "\n",
    "calls['expiration_code'] = calls['Contract Name'].str[4:10] \n",
    "\n",
    "# Check if all options have the same expiration code (so that they expire on the same date)\n",
    "target_expiration_code = '250516'\n",
    "calls_same_expiration = calls[calls['expiration_code'] == target_expiration_code]"
   ]
  },
  {
   "cell_type": "markdown",
   "id": "61ac9f60",
   "metadata": {},
   "source": [
    "For example \"AAPL250516C00095000\" means \n",
    "* APPL:Apple \n",
    "* 250516: with an expiration on the 16th of May 2025\n",
    "* C: call option\n",
    "* 00095000: Strike price of $95"
   ]
  },
  {
   "cell_type": "code",
   "execution_count": 69,
   "id": "08c3d535",
   "metadata": {},
   "outputs": [],
   "source": [
    "strike_prices = calls_same_expiration['Strike']\n",
    "last_prices = calls_same_expiration['Last Price']\n",
    "\n",
    "# Display the strike prices and their respective last prices\n",
    "strike_to_price = dict(zip(strike_prices, last_prices))"
   ]
  },
  {
   "cell_type": "code",
   "execution_count": 70,
   "id": "7dd257b8",
   "metadata": {},
   "outputs": [
    {
     "data": {
      "text/plain": [
       "['Sell a unit of option with strike 115.0 and buy 0.2 unit of the option with strike 95.0 and 0.8 unit of the option with strike 120.0',\n",
       " 'Sell a unit of option with strike 115.0 and buy 0.3333333333333333 unit of the option with strike 95.0 and 0.6666666666666667 unit of the option with strike 125.0',\n",
       " 'Sell a unit of option with strike 115.0 and buy 0.42857142857142855 unit of the option with strike 95.0 and 0.5714285714285714 unit of the option with strike 130.0',\n",
       " 'Sell a unit of option with strike 135.0 and buy 0.3333333333333333 unit of the option with strike 95.0 and 0.6666666666666667 unit of the option with strike 155.0']"
      ]
     },
     "execution_count": 70,
     "metadata": {},
     "output_type": "execute_result"
    }
   ],
   "source": [
    "convex_arbitrage(strike_to_price)[1:5] # Display some aribtrage strategies"
   ]
  },
  {
   "cell_type": "code",
   "execution_count": null,
   "id": "6b9b6129",
   "metadata": {},
   "outputs": [],
   "source": []
  }
 ],
 "metadata": {
  "kernelspec": {
   "display_name": ".venv",
   "language": "python",
   "name": "python3"
  },
  "language_info": {
   "codemirror_mode": {
    "name": "ipython",
    "version": 3
   },
   "file_extension": ".py",
   "mimetype": "text/x-python",
   "name": "python",
   "nbconvert_exporter": "python",
   "pygments_lexer": "ipython3",
   "version": "3.10.2"
  }
 },
 "nbformat": 4,
 "nbformat_minor": 5
}
